{
 "cells": [
  {
   "cell_type": "markdown",
   "metadata": {
    "pycharm": {
     "name": "#%% md\n"
    }
   },
   "source": [
    "# Session 3: Populations of LIF Neurons"
   ]
  },
  {
   "cell_type": "code",
   "execution_count": null,
   "metadata": {
    "pycharm": {
     "name": "#%%\n"
    }
   },
   "outputs": [],
   "source": [
    "import numpy as np\n",
    "import pylab as plt\n",
    "import nest"
   ]
  },
  {
   "cell_type": "markdown",
   "metadata": {
    "pycharm": {
     "name": "#%% md\n"
    }
   },
   "source": [
    "## About this tutorial\n",
    "In this tutorial you are going to use the NEST SIMULATOR. This tool is used to efficiently model large networks of point-neurons. The tool is not optimized to simulate multi-compartmental models like NEURON but is designed to model simpler point-neuron models. As shown in the lecture point-neuron models can be fitted to a large range of biological neurons. Their advantage compared to more complicated neuron models is their mathematical tractability but also their computational efficiency. Their efficiency makes it possible to simulate very large networks of point-neuron models.\n",
    "\n",
    "In this tutorial we will create the well known Brunel network. This network consists of two populations of LIF neurons. One of the populations is excitatory and the other one is inhibitory. There are 4 times as many excitatory neurons than inhibitory neurons in the network (similar to proportions found in the cortex), but the synaptic efficacy of inhibitory neurons on excitatory neurons will offset this difference and thus balances out the network. This balanced state is one of several dynamical regimes the network can occupy. You will explore the other regimes as well.\n",
    "\n",
    "Finally, you will visualize the evolution of the membrane potential of the populations over time. The evolution of the distribution of the membrane potential is central to mean-field theories and the visualization will be help you in understanding the next lectures."
   ]
  },
  {
   "cell_type": "markdown",
   "metadata": {
    "pycharm": {
     "name": "#%% md\n"
    }
   },
   "source": [
    "## Create the network\n",
    "In nest the main functions you need for creating a network are *nest.Create()* and *nest.Connect()*. With the *nest.Create()* function you can create populations of neurons, external input devices (e.g. current generators) and recording devices (e.g. spike recorders). The *nest.Connect()* function is required to connect all the components.\n",
    "\n",
    "Let's create 2 populations of neurons. The neuron model we use is *iaf_psc_delta*, meaning a LIF neuron with a delta-shaped post-synaptic current function (see NEST documentation for more details). The parameters of the neuron model are provided in the dictionary below. The total number of neurons is *10000* of which 80% are excitatory neurons and 20% are inhibitory neurons. Use python indexing to create an excitatory and an inhibitory population."
   ]
  },
  {
   "cell_type": "code",
   "execution_count": null,
   "metadata": {
    "pycharm": {
     "name": "#%%\n"
    }
   },
   "outputs": [],
   "source": [
    "neuron_params = {\n",
    "                   'C_m':       1.0,\n",
    "                   'tau_m':     20.0,\n",
    "                   't_ref':     2.0,\n",
    "                   'E_L':       0.0,\n",
    "                   'V_th':      20.0,\n",
    "                   'V_reset':   10.0\n",
    "                   }\n",
    "\n",
    "N = 10000\n",
    "N_E = int(0.8*N)\n",
    "N_I = int(0.2*N)\n",
    "neurons = nest.Create('iaf_psc_delta', N, params=neuron_params)"
   ]
  },
  {
   "cell_type": "markdown",
   "metadata": {
    "pycharm": {
     "name": "#%% md\n"
    }
   },
   "source": [
    "Now we connect the populations. The synaptic efficacy of the inhibitory synapses should offset the excitatory synapses to balance the network. Below the parameters of the network are provided. Connect the neurons using the *nest.Connect()* function. This function takes the source, the target and 2 optional arguments: *syn_spec*, defines the properties of the synapse; and *conn_spec* which provides the connection algorithm (i.e. how are connections from source population to target population divided over the population). For this network these parameters are provided."
   ]
  },
  {
   "cell_type": "code",
   "execution_count": null,
   "metadata": {
    "pycharm": {
     "name": "#%%\n"
    }
   },
   "outputs": [],
   "source": [
    "g   = -5                # excitation-inhibition balance\n",
    "J_E = 0.1               # excitatory synaptic efficacy\n",
    "J_I = g * J_E           # inhibitory synaptic efficacy\n",
    "P = 0.1                 # connection probability\n",
    "K_E = int(N_E * 0.1)    # number of excitatory synapses\n",
    "K_I = int(N_I * 0.1)    # number of inhibitory synapses\n",
    "delay = 1.5             # axonal delay\n",
    "\n",
    "syn_spec_E  = {'weight': J_E,\n",
    "               'delay': delay}\n",
    "syn_spec_I  = {'weight': J_I,\n",
    "               'delay': delay}\n",
    "\n",
    "conn_spec_E = {'rule': 'fixed_indegree',\n",
    "               'indegree': K_E}\n",
    "conn_spec_I = {'rule': 'fixed_indegree',\n",
    "               'indegree': K_I}\n",
    "\n",
    "# connect the excitatory population to all neurons in the network\n",
    "# ---- your code here ---- #\n",
    "# connect the inhibitory population to all neurons in the network\n",
    "# ---- your code here ---- #"
   ]
  },
  {
   "cell_type": "markdown",
   "metadata": {
    "pycharm": {
     "name": "#%% md\n"
    }
   },
   "source": [
    "Next we create external input devices to drive the network so that we have some spiking activity. We do this by creating a Poission generator, give it a certain rate and connect it to all neurons in our network. The rate of the Poission generated is calculated by interpreting it as a external population which has a certain rate. A function is provided which takes as input a single parameter (relative external rate: *eta*) which can be used to obtain the rate for the Poisson generator. The relative external rate (*eta*) will be one of the main parameters to tune to move between different dynamical regimes of the network.\n",
    "\n",
    "Let's create and connect the *poisson_generator*!"
   ]
  },
  {
   "cell_type": "code",
   "execution_count": null,
   "metadata": {
    "pycharm": {
     "name": "#%%\n"
    }
   },
   "outputs": [],
   "source": [
    "eta = 1.0\n",
    "\n",
    "def get_poisson_rate(eta, tau_m=20.0, V_th=20.0, J_E=0.1):\n",
    "    return 1000.0 * eta * V_th / (J_E*tau_m)\n",
    "\n",
    "# create the poisson generator and set the rate\n",
    "poisson = nest.Create('poisson_generator', {'rate': get_poisson_rate(eta)})\n",
    "\n",
    "# connect the poisson generator to all neurons in the network\n",
    "# use excitatory synapses; no conn_spec required (see NEST documentation for default options)\n",
    "# ---- your code here ---- # "
   ]
  },
  {
   "cell_type": "markdown",
   "metadata": {
    "pycharm": {
     "name": "#%% md\n"
    }
   },
   "source": [
    "The final thing we need to do is create recording devices. We will for now create a spiking recorder which (as the name says) records the spikes from the populations it is connected to. After simulation the times and senders of the recorded spikes can be obtained. Record from only 5% of the neurons in the populations."
   ]
  },
  {
   "cell_type": "code",
   "execution_count": null,
   "metadata": {
    "pycharm": {
     "name": "#%%\n"
    }
   },
   "outputs": [],
   "source": [
    "spikes_E = nest.Create('spike_recorder')\n",
    "spikes_I = nest.Create('spike_recorder')\n",
    "\n",
    "# connect the spike recorders to their respective populations\n",
    "# ---- your code here ---- # "
   ]
  },
  {
   "cell_type": "markdown",
   "metadata": {
    "pycharm": {
     "name": "#%% md\n"
    }
   },
   "source": [
    "Now we are ready to simulate the network!"
   ]
  },
  {
   "cell_type": "code",
   "execution_count": null,
   "metadata": {
    "pycharm": {
     "name": "#%%\n"
    }
   },
   "outputs": [],
   "source": [
    "nest.SetKernelStatus({'print_time': True})\n",
    "\n",
    "t_sim = 300 # ms\n",
    "nest.Simulate(t_sim)"
   ]
  },
  {
   "cell_type": "markdown",
   "metadata": {
    "pycharm": {
     "name": "#%% md\n"
    }
   },
   "source": [
    "### Task 1: Raster plot (50 points)\n",
    "Using *nest.GetStatus()* we can access the data recorded by the spike recorders. Use this function to investigate the recorded data and try to make a raster plot of the excitatory and inhibitory spike trains. The network we build is based on the network described in [Brunel (2000)](https://link.springer.com/content/pdf/10.1023/A:1008925309027.pdf). Figure 8 in this paper shows raster plots of different regimes (see figure below). To which of the possible regimes would you assign the current simulation? By tuning *g* and *eta* could you visit the other dynamical regimes as well?"
   ]
  },
  {
   "cell_type": "code",
   "execution_count": null,
   "metadata": {
    "pycharm": {
     "name": "#%%\n"
    }
   },
   "outputs": [],
   "source": [
    "# ---- your code here ---- #"
   ]
  },
  {
   "cell_type": "markdown",
   "metadata": {
    "pycharm": {
     "name": "#%% md\n"
    }
   },
   "source": [
    "### Task 2: Visualize the evolution of the membrane potential (50 points)\n",
    "Create *voltmeter* devices and connect them to the 2 populations. Visualize the evolution of the membrane potential of the neurons in the network over time. Give the voltmeter (in *nest.Create()* *params* argument) a recording *interval* of 1 ms and record from the membrane voltage of the neurons *V_m*. Record from 5% of the neurons to limit computational cost. note that with for connecting a *voltmeter* with *nest.Connect()* you need to put the *voltmeter* as the source. What happens at the reset potential *V_reset*? What happens around the spike threshold potential *V_th*? Try to explain your observations."
   ]
  },
  {
   "cell_type": "code",
   "execution_count": null,
   "metadata": {
    "pycharm": {
     "name": "#%%\n"
    }
   },
   "outputs": [],
   "source": [
    "# ---- your code here ---- #"
   ]
  }
 ],
 "metadata": {
  "kernelspec": {
   "display_name": "Python 3 (ipykernel)",
   "language": "python",
   "name": "python3"
  },
  "language_info": {
   "codemirror_mode": {
    "name": "ipython",
    "version": 3
   },
   "file_extension": ".py",
   "mimetype": "text/x-python",
   "name": "python",
   "nbconvert_exporter": "python",
   "pygments_lexer": "ipython3",
   "version": "3.8.10"
  }
 },
 "nbformat": 4,
 "nbformat_minor": 1
}
