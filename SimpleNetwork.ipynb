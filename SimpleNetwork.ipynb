{
 "cells": [
  {
   "cell_type": "markdown",
   "metadata": {
    "pycharm": {
     "name": "#%% md\n"
    }
   },
   "source": [
    "# Installing NEST simulator\n",
    "Intalling NEST can be different depending on the device you use.\n",
    "Generally the instructions for installing it a given [here](https://nest-simulator.readthedocs.io/en/stable/installation/index.html)"
   ]
  },
  {
   "cell_type": "code",
   "execution_count": null,
   "metadata": {
    "pycharm": {
     "name": "#%%\n"
    }
   },
   "outputs": [],
   "source": [
    "import numpy as np\n",
    "import pylab as plt\n",
    "import nest\n",
    "import matplotlib.gridspec as gridspec"
   ]
  },
  {
   "cell_type": "markdown",
   "metadata": {
    "pycharm": {
     "name": "#%% md\n"
    }
   },
   "source": [
    "# Network Set-Up\n",
    "\n",
    "### Import the Network class and the raster plot function from `functions.py`\n",
    "You need to complete the `Network` class to be able to simulate the network and plot it's raster plot (task 3)"
   ]
  },
  {
   "cell_type": "code",
   "execution_count": null,
   "metadata": {
    "pycharm": {
     "name": "#%%\n"
    }
   },
   "outputs": [],
   "source": [
    "from functions import Network, raster"
   ]
  },
  {
   "cell_type": "markdown",
   "metadata": {
    "pycharm": {
     "name": "#%% md\n"
    }
   },
   "source": [
    "### Set the parameters of the neuron model and the network\n",
    "To change the regime that the network is in you can play around with the parameters in the *params* dictionary."
   ]
  },
  {
   "cell_type": "code",
   "execution_count": null,
   "metadata": {
    "pycharm": {
     "name": "#%%\n"
    }
   },
   "outputs": [],
   "source": [
    "# Network parameters\n",
    "neuron_params = {\"C_m\":     1.0,\n",
    "                 \"tau_m\":   20.,\n",
    "                 \"t_ref\":   2.0,\n",
    "                 \"E_L\":     0.0,\n",
    "                 \"V_reset\": 0.0,\n",
    "                 \"V_m\":     0.0,\n",
    "                 \"V_th\":    20.\n",
    "                 }\n",
    "\n",
    "params = {\n",
    "    'num_neurons': 10000,               # number of neurons in network\n",
    "    'rho':  0.2,                        # fraction of inhibitory neurons\n",
    "    'eps':  0.1,                        # probability to establish a connections\n",
    "    'g':    5,                          # excitation-inhibition balance\n",
    "    'eta':  2,                          # relative external rate\n",
    "    'J':    0.1,                        # postsynaptic amplitude in mV\n",
    "    'neuron_params': neuron_params,     # single neuron parameters\n",
    "    'n_rec_ex':  200,                   # excitatory neurons to be recorded from\n",
    "    'n_rec_in':  100,                   # inhibitory neurons to be recorded from\n",
    "    'rec_start': 600.,                  # start point for recording spike trains\n",
    "    'rec_stop':  800.                   # end points for recording spike trains\n",
    "    }\n",
    "\n",
    "# some requirements for the NEST kernel\n",
    "nest.ResetKernel()\n",
    "nest.SetKernelStatus({'local_num_threads': 1})  # Adapt if necessary\n",
    "\n",
    "network = Network(**params)"
   ]
  },
  {
   "cell_type": "code",
   "execution_count": null,
   "metadata": {
    "pycharm": {
     "name": "#%%\n"
    }
   },
   "outputs": [],
   "source": [
    "raster(spikes_ex, spikes_in, rec_start, rec_stop)"
   ]
  }
 ],
 "metadata": {
  "kernelspec": {
   "display_name": "Python 3",
   "language": "python",
   "name": "python3"
  },
  "language_info": {
   "codemirror_mode": {
    "name": "ipython",
    "version": 3
   },
   "file_extension": ".py",
   "mimetype": "text/x-python",
   "name": "python",
   "nbconvert_exporter": "python",
   "pygments_lexer": "ipython3",
   "version": "3.8.5"
  }
 },
 "nbformat": 4,
 "nbformat_minor": 1
}
